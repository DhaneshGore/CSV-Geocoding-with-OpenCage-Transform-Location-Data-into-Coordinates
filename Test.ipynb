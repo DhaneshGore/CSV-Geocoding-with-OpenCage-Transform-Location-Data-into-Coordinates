{
 "cells": [
  {
   "cell_type": "markdown",
   "metadata": {},
   "source": [
    "https://www.testdome.com/questions/python/malware-analysis/108074"
   ]
  },
  {
   "cell_type": "code",
   "execution_count": null,
   "metadata": {
    "vscode": {
     "languageId": "plaintext"
    }
   },
   "outputs": [],
   "source": [
    "# Malware Analysis - Your companey is analyzing malware which targets numerical record files   \n",
    "Your company is analyzing malware which targets numerical record files.\n",
    "\n",
    "The malware uses a sliding window over the array of numbers in a file, and tries to match the following pattern:\n",
    "\n",
    "T1, -, -, X, -, -, -, Tr\n",
    "\n",
    "The entire window is moved so that 'X' passes through all the values and is compared to the numbers at the 'TI' and 'Tr' locations, which are positioned at a constant offset to 'X'.\n",
    "\n",
    "The malware has the following rules:\n",
    "\n",
    "If the value at the 'TI' or 'Tr' position of the pattern is bigger or equal to the value at the 'X' position, the malware replaces the value at 'X' with 0.\n",
    "\n",
    "* If the value at the 'TI' or 'Tr' offset is out of bounds, then the value at 'X' is only compared to the other existing value.\n",
    "\n",
    "* The record is processed in two stages: first, all the positions that should be set to 0 are located, using the original values for comparison. Only after all positions have been identified do they get set to 0.\n",
    "\n",
    "For example, if the values in a record file are the following:\n",
    "[1, 2, 0, 5, 0, 2, 4, 3, 3, 3]\n",
    "\n",
    "The expected values after the malware runs are:\n",
    "\n",
    "[1, 0, 0, 5, 0, 0, 0, 3, 3, 0]\n",
    "\n",
    "In this example, both '2's, the '4' and the last '3' were replaced by 0.\n",
    "\n",
    "Implement the simulate function so that the malware behavior is replicated for further study.\n",
    "def simulate(record):\n",
    "    result = record.copy()\n",
    "    for i in range(len(record)):\n",
    "        if i - 2 >= 0 and i + 1 < len(record):\n",
    "            if record[i - 2] >= record[i] or record[i + 1] >= record[i]:\n",
    "                result[i] = 0\n",
    "    return result\n",
    "print(simulate([1, 2, 0, 5, 0, 2, 4, 3, 3, 3]))\n",
    "# [1, 0, 0, 5, 0, 0, 0, 3, 3, 0]\n",
    "\n"
   ]
  },
  {
   "cell_type": "code",
   "execution_count": null,
   "metadata": {
    "vscode": {
     "languageId": "plaintext"
    }
   },
   "outputs": [],
   "source": [
    "def simulate(entries):\n",
    "\n",
    ":param entries: (list(int)) The numerical record files\n",
    "\n",
    ":returns: (list(int)) The record files after running the malware\n",
    "\n",
    "\n",
    "\n",
    "# Write your code here\n",
    "\n",
    "\n",
    "return [ ] \n",
    "\n",
    "records = [1, 2, 0, 5, 0, 2, 4, 3, 3, 3]\n",
    "\n",
    "print(simulate (records))\n",
    "\n",
    " Expected output\n",
    "\n",
    " [1, 0, 0, 5, 0, 0, 0, 3, 3, 0]\n"
   ]
  },
  {
   "cell_type": "code",
   "execution_count": null,
   "metadata": {
    "vscode": {
     "languageId": "plaintext"
    }
   },
   "outputs": [],
   "source": []
  }
 ],
 "metadata": {
  "language_info": {
   "name": "python"
  }
 },
 "nbformat": 4,
 "nbformat_minor": 2
}
